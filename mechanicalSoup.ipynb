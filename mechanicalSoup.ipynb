{
 "cells": [
  {
   "cell_type": "markdown",
   "metadata": {},
   "source": [
    "# Navigate to Google Images"
   ]
  },
  {
   "cell_type": "code",
   "execution_count": null,
   "metadata": {},
   "outputs": [],
   "source": [
    "pip install MechanicalSoup"
   ]
  },
  {
   "cell_type": "code",
   "execution_count": 1,
   "metadata": {},
   "outputs": [
    {
     "output_type": "stream",
     "name": "stdout",
     "text": [
      "https://www.google.com/imghp?hl=en\n"
     ]
    }
   ],
   "source": [
    "import mechanicalsoup\n",
    "\n",
    "browser = mechanicalsoup.StatefulBrowser()\n",
    "url = \"https://www.google.com/imghp?hl=en\"\n",
    "\n",
    "browser.open(url)\n",
    "print(browser.get_url())"
   ]
  },
  {
   "cell_type": "code",
   "execution_count": 2,
   "metadata": {},
   "outputs": [
    {
     "output_type": "execute_result",
     "data": {
      "text/plain": [
       "<Response [200]>"
      ]
     },
     "metadata": {},
     "execution_count": 2
    }
   ],
   "source": [
    "import mechanicalsoup\n",
    "browser = mechanicalsoup.StatefulBrowser()\n",
    "url = \"http://httpbin.org/\"\n",
    "browser.open(url)"
   ]
  },
  {
   "cell_type": "code",
   "execution_count": 3,
   "metadata": {},
   "outputs": [
    {
     "output_type": "stream",
     "name": "stdout",
     "text": [
      "http://httpbin.org/\n"
     ]
    }
   ],
   "source": [
    "print(browser.get_url())"
   ]
  },
  {
   "cell_type": "code",
   "execution_count": 4,
   "metadata": {},
   "outputs": [
    {
     "output_type": "execute_result",
     "data": {
      "text/plain": [
       "'http://httpbin.org/forms/post'"
      ]
     },
     "metadata": {},
     "execution_count": 4
    }
   ],
   "source": [
    "browser.follow_link(\"forms\")\n",
    "browser.get_url()"
   ]
  },
  {
   "cell_type": "code",
   "execution_count": 5,
   "metadata": {},
   "outputs": [
    {
     "output_type": "execute_result",
     "data": {
      "text/plain": [
       "<!DOCTYPE html>\n",
       "<html>\n",
       "<head>\n",
       "</head>\n",
       "<body>\n",
       "<!-- Example form from HTML5 spec http://www.w3.org/TR/html5/forms.html#writing-a-form's-user-interface -->\n",
       "<form action=\"/post\" method=\"post\">\n",
       "<p><label>Customer name: <input name=\"custname\"/></label></p>\n",
       "<p><label>Telephone: <input name=\"custtel\" type=\"tel\"/></label></p>\n",
       "<p><label>E-mail address: <input name=\"custemail\" type=\"email\"/></label></p>\n",
       "<fieldset>\n",
       "<legend> Pizza Size </legend>\n",
       "<p><label> <input name=\"size\" type=\"radio\" value=\"small\"/> Small </label></p>\n",
       "<p><label> <input name=\"size\" type=\"radio\" value=\"medium\"/> Medium </label></p>\n",
       "<p><label> <input name=\"size\" type=\"radio\" value=\"large\"/> Large </label></p>\n",
       "</fieldset>\n",
       "<fieldset>\n",
       "<legend> Pizza Toppings </legend>\n",
       "<p><label> <input name=\"topping\" type=\"checkbox\" value=\"bacon\"/> Bacon </label></p>\n",
       "<p><label> <input name=\"topping\" type=\"checkbox\" value=\"cheese\"/> Extra Cheese </label></p>\n",
       "<p><label> <input name=\"topping\" type=\"checkbox\" value=\"onion\"/> Onion </label></p>\n",
       "<p><label> <input name=\"topping\" type=\"checkbox\" value=\"mushroom\"/> Mushroom </label></p>\n",
       "</fieldset>\n",
       "<p><label>Preferred delivery time: <input max=\"21:00\" min=\"11:00\" name=\"delivery\" step=\"900\" type=\"time\"/></label></p>\n",
       "<p><label>Delivery instructions: <textarea name=\"comments\"></textarea></label></p>\n",
       "<p><button>Submit order</button></p>\n",
       "</form>\n",
       "</body>\n",
       "</html>"
      ]
     },
     "metadata": {},
     "execution_count": 5
    }
   ],
   "source": [
    "browser.get_current_page()"
   ]
  },
  {
   "cell_type": "code",
   "execution_count": 6,
   "metadata": {},
   "outputs": [
    {
     "output_type": "execute_result",
     "data": {
      "text/plain": [
       "[<legend> Pizza Size </legend>, <legend> Pizza Toppings </legend>]"
      ]
     },
     "metadata": {},
     "execution_count": 6
    }
   ],
   "source": [
    "browser.get_current_page().find_all('legend')"
   ]
  },
  {
   "cell_type": "code",
   "execution_count": 7,
   "metadata": {},
   "outputs": [
    {
     "output_type": "execute_result",
     "data": {
      "text/plain": [
       "<mechanicalsoup.form.Form at 0x268925844c0>"
      ]
     },
     "metadata": {},
     "execution_count": 7
    }
   ],
   "source": [
    "browser.select_form('form[action=\"/post\"]')"
   ]
  },
  {
   "cell_type": "code",
   "execution_count": 8,
   "metadata": {},
   "outputs": [
    {
     "output_type": "stream",
     "name": "stdout",
     "text": [
      "<input name=\"custname\"/>\n<input name=\"custtel\" type=\"tel\"/>\n<input name=\"custemail\" type=\"email\"/>\n<input name=\"size\" type=\"radio\" value=\"small\"/>\n<input name=\"size\" type=\"radio\" value=\"medium\"/>\n<input name=\"size\" type=\"radio\" value=\"large\"/>\n<input name=\"topping\" type=\"checkbox\" value=\"bacon\"/>\n<input name=\"topping\" type=\"checkbox\" value=\"cheese\"/>\n<input name=\"topping\" type=\"checkbox\" value=\"onion\"/>\n<input name=\"topping\" type=\"checkbox\" value=\"mushroom\"/>\n<input max=\"21:00\" min=\"11:00\" name=\"delivery\" step=\"900\" type=\"time\"/>\n<textarea name=\"comments\"></textarea>\n<button>Submit order</button>\n"
     ]
    }
   ],
   "source": [
    "browser.get_current_form().print_summary()"
   ]
  },
  {
   "cell_type": "code",
   "execution_count": 9,
   "metadata": {},
   "outputs": [],
   "source": [
    "browser[\"custname\"] = \"Mohit\"\n",
    "browser[\"custtel\"] = \"9081515151\"\n",
    "browser[\"custemail\"] = \"mohitmaithani@aol.com\"\n",
    "browser[\"comments\"] = \"please make pizza dough more soft :-)\"\n",
    "browser[\"size\"] = \"large\"\n",
    "browser[\"topping\"] = \"mushroom\"\n",
    "\n",
    "#launch browser\n",
    "browser.launch_browser()"
   ]
  },
  {
   "source": [
    "# Navigate to Google Images"
   ],
   "cell_type": "markdown",
   "metadata": {}
  },
  {
   "cell_type": "code",
   "execution_count": 16,
   "metadata": {},
   "outputs": [
    {
     "output_type": "stream",
     "name": "stdout",
     "text": [
      "https://www.google.com/imghp?hl=en\n"
     ]
    }
   ],
   "source": [
    "import mechanicalsoup\n",
    "\n",
    "browser = mechanicalsoup.StatefulBrowser()\n",
    "url = \"https://www.google.com/imghp?hl=en\"\n",
    "\n",
    "browser.open(url)\n",
    "print(browser.get_url())"
   ]
  },
  {
   "cell_type": "markdown",
   "metadata": {},
   "source": [
    "# it will search the cats and output will be seen in realtime"
   ]
  },
  {
   "cell_type": "code",
   "execution_count": 17,
   "metadata": {},
   "outputs": [
    {
     "output_type": "stream",
     "name": "stdout",
     "text": [
      "<input name=\"tbm\" type=\"hidden\" value=\"isch\"/>\n",
      "<input name=\"ie\" type=\"hidden\" value=\"ISO-8859-1\"/>\n",
      "<input name=\"hl\" type=\"hidden\" value=\"en-IN\"/>\n",
      "<input name=\"source\" type=\"hidden\" value=\"hp\"/>\n",
      "<input name=\"biw\" type=\"hidden\"/>\n",
      "<input name=\"bih\" type=\"hidden\"/>\n",
      "<input autocomplete=\"off\" class=\"lst\" maxlength=\"2048\" name=\"q\" size=\"57\" style=\"margin:0;padding:5px 8px 0 6px;vertical-align:top;color:#000\" title=\"Search Images\" value=\"\"/>\n",
      "<input class=\"lsb\" name=\"btnG\" type=\"submit\" value=\"Search Images\"/>\n",
      "<input id=\"gbv\" name=\"gbv\" type=\"hidden\" value=\"1\"/>\n",
      "new url: https://www.google.com/search?tbm=isch&ie=ISO-8859-1&hl=en-IN&source=hp&biw=&bih=&q=cat&btnG=Search+Images&gbv=1\n",
      "response:\n",
      " <!DOCTYPE html PUBLIC \"-//WAPFORUM//DTD XHTML Mobile 1.0//EN\" \"http://www.wapforum.org/DTD/xhtml-mobile10.dtd\"><html xmlns=\"http://www.w3.org/1999/xhtml\" lang=\"en-IN\"><head><meta content=\"application/xhtml+xml; charset=UTF-8\" http-equiv=\"Content-Type\"/><meta content=\"no-cache\" name=\"Cache-Control\"/><title>cat - Google Search</title><style>a{text-decoration:none;color:inherit}a:hover{text-decoration:underline}a img{border:0}body{font-family:Roboto,Helvetica,Arial,sans-serif;padding:8px;margin:0 a\n"
     ]
    }
   ],
   "source": [
    "#get HTML\n",
    "browser.get_current_page()\n",
    "\n",
    "#target the search input\n",
    "browser.select_form()\n",
    "browser.get_current_form().print_summary()\n",
    "\n",
    "#search for a term\n",
    "search_term = 'cat'\n",
    "browser[\"q\"] = search_term \n",
    "\n",
    "#submit/\"click\" search\n",
    "browser.launch_browser()\n",
    "response = browser.submit_selected()\n",
    "\n",
    "print('new url:', browser.get_url())\n",
    "print('response:\\n', response.text[:500])"
   ]
  },
  {
   "cell_type": "markdown",
   "metadata": {},
   "source": [
    "# Navigate to the new pages and target all the images having cats"
   ]
  },
  {
   "cell_type": "code",
   "execution_count": 14,
   "metadata": {},
   "outputs": [
    {
     "output_type": "execute_result",
     "data": {
      "text/plain": [
       "['https://encrypted-tbn0.gstatic.com/images?q=tbn:ANd9GcRcnsZ-IpWS6HXr6TbJcbnMfrn8-elezlBLcUrM4XroPAbFbJRFylqQoALiLA&s',\n",
       " 'https://encrypted-tbn0.gstatic.com/images?q=tbn:ANd9GcTJleI0AbHZxdrpfZpsiDPMb7UYUo6wehSe9h9n1lhsl0JaIvslGboCoMPAC_g&s',\n",
       " 'https://encrypted-tbn0.gstatic.com/images?q=tbn:ANd9GcR82EPZtp1A6zVyjz0rOzjlfEmL-PbS1t32oiVqeOO_HrsZClpOZGQX75q8x7o&s',\n",
       " 'https://encrypted-tbn0.gstatic.com/images?q=tbn:ANd9GcRSzNUwheAjK2rSn3wZlwHp1BNYRZNFrlyUDe5VX2v60gbqSw7DKv7pJfBBoJo&s',\n",
       " 'https://encrypted-tbn0.gstatic.com/images?q=tbn:ANd9GcQopVeNdBAg9BK8krrTPyzaX-rXadzf5_eC1v0vYVQopsR_eAT-0Hi8RqQRhLw&s',\n",
       " 'https://encrypted-tbn0.gstatic.com/images?q=tbn:ANd9GcRTINly5N1HIA8sPTrA9_qnHUvyEWCd2zf_yEqGvo8xlGNd6ikt4LWjvEAbvwE&s',\n",
       " 'https://encrypted-tbn0.gstatic.com/images?q=tbn:ANd9GcSoYqAW48ay6dqP4vPQPE5JoKgTIVnXnADCXknKvRHarDnyy_IBJ2SGwIuV3w&s',\n",
       " 'https://encrypted-tbn0.gstatic.com/images?q=tbn:ANd9GcRbHRc7LBxBQP7rX7eYBDJbUgXW-CDCT9T09MEq-9g4JhOmI0E61kd_2LkinA&s',\n",
       " 'https://encrypted-tbn0.gstatic.com/images?q=tbn:ANd9GcTj2r-qbBX43cWYK5tbZiwMX1pzwXxhnzKXFELZ66yaZ809ISyUNYcZO1Y2uvU&s',\n",
       " 'https://encrypted-tbn0.gstatic.com/images?q=tbn:ANd9GcQ5nloTmauj2EcZIsGAIolAc-u0Zy11PE2AKaGYmHIEfwhVbkRfZtN_OqB57Ms&s',\n",
       " 'https://encrypted-tbn0.gstatic.com/images?q=tbn:ANd9GcRT02nTXXH5EhUbB0U37zohPF9gRUgXkLh5ocUbmDoW4B6LX62d6EMcVM19hg&s',\n",
       " 'https://encrypted-tbn0.gstatic.com/images?q=tbn:ANd9GcSxTD7YBUg44-WhTf0uIfKiooFL8B7UxfVnqmcpWasnBJQHJXvEwR9D0sri-Mk&s',\n",
       " 'https://encrypted-tbn0.gstatic.com/images?q=tbn:ANd9GcQcg6aVu34eZal6JStfqlTwKTlCY1ToV9s35BZj9nNoTmS3ILiO8TS6xHjB4Q&s',\n",
       " 'https://encrypted-tbn0.gstatic.com/images?q=tbn:ANd9GcSTtny-MZZBBp1cMzX-23pUgVcSBIz50G0_6dY4sIDxYIc3XawFrXGXkAKLSHk&s',\n",
       " 'https://encrypted-tbn0.gstatic.com/images?q=tbn:ANd9GcTESnLzsCBmTa2obA5q-VLiPGZl2Frf198L5Ve4Q5vF3yzWJEDg4oinNIlbekI&s',\n",
       " 'https://encrypted-tbn0.gstatic.com/images?q=tbn:ANd9GcRSudN9sHsPSS40LNcbfHl2__0wLXCs2eNh7DyFmNC9VNq-sVCnlZeNVXgsQC4&s']"
      ]
     },
     "metadata": {},
     "execution_count": 14
    }
   ],
   "source": [
    "#open URL\n",
    "new_url = browser.get_url()\n",
    "browser.open(new_url)\n",
    "\n",
    "#get HTML code\n",
    "page = browser.get_current_page()\n",
    "all_images = page.find_all('img')\n",
    "\n",
    "#target the source attributes of image\n",
    "image_source = []\n",
    "for image in all_images:\n",
    "    image = image.get('src')\n",
    "    image_source.append(image)\n",
    "\n",
    "image_source[5:25]"
   ]
  },
  {
   "cell_type": "markdown",
   "metadata": {},
   "source": [
    "# Let's fix the URLs"
   ]
  },
  {
   "cell_type": "code",
   "execution_count": 67,
   "metadata": {
    "tags": []
   },
   "outputs": [
    {
     "output_type": "execute_result",
     "data": {
      "text/plain": [
       "['https://encrypted-tbn0.gstatic.com/images?q=tbn:ANd9GcTJleI0AbHZxdrpfZpsiDPMb7UYUo6wehSe9h9n1lhsl0JaIvslGboCoMPAC_g&s',\n",
       " 'https://encrypted-tbn0.gstatic.com/images?q=tbn:ANd9GcR82EPZtp1A6zVyjz0rOzjlfEmL-PbS1t32oiVqeOO_HrsZClpOZGQX75q8x7o&s',\n",
       " 'https://encrypted-tbn0.gstatic.com/images?q=tbn:ANd9GcRSzNUwheAjK2rSn3wZlwHp1BNYRZNFrlyUDe5VX2v60gbqSw7DKv7pJfBBoJo&s',\n",
       " 'https://encrypted-tbn0.gstatic.com/images?q=tbn:ANd9GcQopVeNdBAg9BK8krrTPyzaX-rXadzf5_eC1v0vYVQopsR_eAT-0Hi8RqQRhLw&s',\n",
       " 'https://encrypted-tbn0.gstatic.com/images?q=tbn:ANd9GcRTINly5N1HIA8sPTrA9_qnHUvyEWCd2zf_yEqGvo8xlGNd6ikt4LWjvEAbvwE&s',\n",
       " 'https://encrypted-tbn0.gstatic.com/images?q=tbn:ANd9GcRbHRc7LBxBQP7rX7eYBDJbUgXW-CDCT9T09MEq-9g4JhOmI0E61kd_2LkinA&s',\n",
       " 'https://encrypted-tbn0.gstatic.com/images?q=tbn:ANd9GcSoYqAW48ay6dqP4vPQPE5JoKgTIVnXnADCXknKvRHarDnyy_IBJ2SGwIuV3w&s',\n",
       " 'https://encrypted-tbn0.gstatic.com/images?q=tbn:ANd9GcTj2r-qbBX43cWYK5tbZiwMX1pzwXxhnzKXFELZ66yaZ809ISyUNYcZO1Y2uvU&s',\n",
       " 'https://encrypted-tbn0.gstatic.com/images?q=tbn:ANd9GcQ5nloTmauj2EcZIsGAIolAc-u0Zy11PE2AKaGYmHIEfwhVbkRfZtN_OqB57Ms&s',\n",
       " 'https://encrypted-tbn0.gstatic.com/images?q=tbn:ANd9GcRT02nTXXH5EhUbB0U37zohPF9gRUgXkLh5ocUbmDoW4B6LX62d6EMcVM19hg&s',\n",
       " 'https://encrypted-tbn0.gstatic.com/images?q=tbn:ANd9GcSxTD7YBUg44-WhTf0uIfKiooFL8B7UxfVnqmcpWasnBJQHJXvEwR9D0sri-Mk&s',\n",
       " 'https://encrypted-tbn0.gstatic.com/images?q=tbn:ANd9GcQcg6aVu34eZal6JStfqlTwKTlCY1ToV9s35BZj9nNoTmS3ILiO8TS6xHjB4Q&s',\n",
       " 'https://encrypted-tbn0.gstatic.com/images?q=tbn:ANd9GcSTtny-MZZBBp1cMzX-23pUgVcSBIz50G0_6dY4sIDxYIc3XawFrXGXkAKLSHk&s',\n",
       " 'https://encrypted-tbn0.gstatic.com/images?q=tbn:ANd9GcStUAeUyQawR-eUYyLI4HlC3TKxy2DiOjv8432bFaX_rfcoKqyBEqXG1RQ-uG8&s',\n",
       " 'https://encrypted-tbn0.gstatic.com/images?q=tbn:ANd9GcRSudN9sHsPSS40LNcbfHl2__0wLXCs2eNh7DyFmNC9VNq-sVCnlZeNVXgsQC4&s']"
      ]
     },
     "metadata": {},
     "execution_count": 67
    }
   ],
   "source": [
    "image_source = [image for image in image_source if image.startswith('https')]\n",
    "image_source[5:]"
   ]
  },
  {
   "cell_type": "markdown",
   "metadata": {},
   "source": [
    "# Create local directory on our computer"
   ]
  },
  {
   "cell_type": "code",
   "execution_count": 69,
   "metadata": {},
   "outputs": [
    {
     "output_type": "execute_result",
     "data": {
      "text/plain": [
       "'c:\\\\Users\\\\mohit\\\\OneDrive\\\\Desktop\\\\AIM\\\\6mechanical soup\\\\cats'"
      ]
     },
     "metadata": {},
     "execution_count": 69
    }
   ],
   "source": [
    "import os\n",
    "import wget\n",
    "\n",
    "path = os.getcwd()\n",
    "path = os.path.join(path, search_term + \"s\")\n",
    "\n",
    "#create the directory\n",
    "os.mkdir(path)\n",
    "\n",
    "path"
   ]
  },
  {
   "cell_type": "markdown",
   "metadata": {},
   "source": [
    "# Download using wget and saving in local"
   ]
  },
  {
   "cell_type": "code",
   "execution_count": null,
   "metadata": {},
   "outputs": [],
   "source": [
    "#download images\n",
    "counter = 0\n",
    "for image in image_source:\n",
    "    save_as = os.path.join(path, search_term + str(counter) + '.jpg')\n",
    "    wget.download(image, save_as)\n",
    "    counter += 1"
   ]
  },
  {
   "cell_type": "code",
   "execution_count": null,
   "metadata": {},
   "outputs": [],
   "source": []
  }
 ],
 "metadata": {
  "kernelspec": {
   "display_name": "Python 3",
   "language": "python",
   "name": "python3"
  },
  "language_info": {
   "codemirror_mode": {
    "name": "ipython",
    "version": 3
   },
   "file_extension": ".py",
   "mimetype": "text/x-python",
   "name": "python",
   "nbconvert_exporter": "python",
   "pygments_lexer": "ipython3",
   "version": "3.9.0-final"
  }
 },
 "nbformat": 4,
 "nbformat_minor": 4
}